{
 "cells": [
  {
   "cell_type": "code",
   "execution_count": 4,
   "metadata": {},
   "outputs": [],
   "source": [
    "class Tank:\n",
    "    def __init__(self, name):\n",
    "        self.alias = None\n",
    "        self.wikientry = None\n",
    "        self.name = name\n",
    "        self.type = None\n",
    "        self.country = None\n",
    "        self.chapters = {}\n",
    "\n",
    "    def __repr__(self):\n",
    "        return \"Name: {}\\nType: {}\\nCountry of Origin: {}\\n\".format(self.name, self.type, self.country)\n",
    "\n",
    "    def list_of_content(self):\n",
    "        text = ''\n",
    "        data = [self.name]\n",
    "        for key in self.chapters:\n",
    "            data.append('    ' + key)\n",
    "        for i in data:\n",
    "            text += i \n",
    "            text += '\\n'\n",
    "        return text\n",
    "    \n",
    "    def show_all(self):\n",
    "        \"\"\" show all tank info\n",
    "            return string\n",
    "        \"\"\"\n",
    "        text = str(self)\n",
    "#         print(self)\n",
    "        for key, _data in self.chapters.items():\n",
    "            text += '    ' + key + ': '\n",
    "            c = _data.splitlines()\n",
    "            for k in c:\n",
    "                k.strip()\n",
    "            if '' in c:\n",
    "                c.pop(c.index(''))\n",
    "            for k in c:\n",
    "                text += k + '\\n'\n",
    "        text += '\\n'\n",
    "        return text"
   ]
  },
  {
   "cell_type": "code",
   "execution_count": 3,
   "metadata": {},
   "outputs": [],
   "source": [
    "def tank_factory(infoboxes, link_end):\n",
    "    tanks = []\n",
    "    for infobox in infoboxes:\n",
    "        chaps = []\n",
    "        tank = Tank(str(next(iter(infobox))).strip())\n",
    "        print(tank.name)\n",
    "        tank.wikientry = link_end\n",
    "        if 'Place of origin' in infobox:\n",
    "            tank.country = infobox['Place of origin']\n",
    "        tank.type = infobox['Type']\n",
    "        # return tank\n",
    "        for key, data in infobox.items():\n",
    "            if data is None:\n",
    "                if key == 'Service history':\n",
    "                    print(key + ' found')\n",
    "                elif key == 'Production history':\n",
    "                    print(key + ' found')\n",
    "                elif key[:14] == 'Specifications':\n",
    "                    print(key + ' found')\n",
    "            else:\n",
    "                tank.chapters[key] = data\n",
    "        print('')\n",
    "        tanks.append(tank)\n",
    "    return tanks"
   ]
  }
 ],
 "metadata": {
  "kernelspec": {
   "display_name": "Python 3",
   "language": "python",
   "name": "python3"
  },
  "language_info": {
   "codemirror_mode": {
    "name": "ipython",
    "version": 3
   },
   "file_extension": ".py",
   "mimetype": "text/x-python",
   "name": "python",
   "nbconvert_exporter": "python",
   "pygments_lexer": "ipython3",
   "version": "3.8.2"
  }
 },
 "nbformat": 4,
 "nbformat_minor": 4
}
