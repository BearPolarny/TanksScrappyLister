{
 "cells": [
  {
   "cell_type": "code",
   "execution_count": 9,
   "metadata": {
    "pycharm": {
     "is_executing": false
    }
   },
   "outputs": [],
   "source": [
    "import tkinter as tk\n",
    "import pygubu\n",
    "import pickle"
   ]
  },
  {
   "cell_type": "code",
   "execution_count": 12,
   "metadata": {
    "pycharm": {
     "is_executing": false
    }
   },
   "outputs": [],
   "source": [
    "class AddWindow(pygubu.TkApplication):\n",
    "    \n",
    "    def exit_func(self):\n",
    "        self.main_window.destroy()\n",
    "    \n",
    "    def add_func(self):\n",
    "        print('dipa')\n",
    "        pass\n",
    "    \n",
    "    def download_data_func(self):\n",
    "        pass\n",
    "    \n",
    "    def __init__(self, tanks):\n",
    "        super().__init__()\n",
    "        self.tanks = tanks\n",
    "        self.builder = builder = pygubu.Builder()\n",
    "        builder.add_from_file(\"GUIs/add_window.ui\")\n",
    "        self.main_window = builder.get_object('add_window')\n",
    "        \n",
    "        builder.connect_callbacks(self)\n",
    "        "
   ]
  },
  {
   "cell_type": "code",
   "execution_count": 5,
   "metadata": {
    "pycharm": {
     "is_executing": false
    }
   },
   "outputs": [],
   "source": [
    "class EditWindow(pygubu.TkApplication):\n",
    "\n",
    "    def save_func(self):\n",
    "        self.selected_tank.chapters[self.edited_value] = \\\n",
    "            self.textbox.get('1.0', tk.END)\n",
    "\n",
    "    def exit_func(self):\n",
    "        pickle.dump(self.tanks, open('tank_data/tanksGUI.p', 'wb'))\n",
    "        self.main_window.destroy()\n",
    "\n",
    "    def onselect_tank(self, evt):\n",
    "        w = evt.widget\n",
    "        try:\n",
    "            index = int(w.curselection()[0])\n",
    "\n",
    "            value = w.get(index)\n",
    "            self.textbox.delete('1.0', tk.END)\n",
    "            tank = self.tanks[self.aliases[value]]\n",
    "\n",
    "            names = [len(value) for value in tank.chapters.keys()]\n",
    "            # print(names)\n",
    "            self.listbox_info.delete(0, tk.END)\n",
    "            self.listbox_info.configure(width=max(names))\n",
    "\n",
    "            for k, v in enumerate(tank.chapters.keys()):\n",
    "                self.listbox_info.insert(k+1, v)\n",
    "\n",
    "            self.selected_tank = tank\n",
    "            al = self.selected_tank.alias if self.selected_tank.alias else self.selected_tank.name\n",
    "            self.title.set(\"Tank: {}, Value: \".format(al))\n",
    "            \n",
    "        except IndexError:\n",
    "            print('pff')\n",
    "\n",
    "    def onselect_info(self, event):\n",
    "        w = event.widget\n",
    "\n",
    "        try:\n",
    "            index = int(w.curselection()[0])\n",
    "\n",
    "            value = w.get(index)\n",
    "            self.textbox.delete('1.0', tk.END)\n",
    "            self.edited_value = value\n",
    "            self.textbox.insert(\n",
    "                tk.END, self.selected_tank.chapters[self.edited_value])\n",
    "            al = self.selected_tank.alias if self.selected_tank.alias else self.selected_tank.name\n",
    "            self.title.set(\"Tank: {}, Value: {}\".format(al, value))\n",
    "        except IndexError:\n",
    "            pass\n",
    "\n",
    "    def __init__(self, tanks, aliases):\n",
    "        super().__init__()\n",
    "        self.tanks = tanks\n",
    "        self.aliases = aliases\n",
    "        self.edited_value = None\n",
    "        self.selected_tank = None\n",
    "\n",
    "        self.builder = builder = pygubu.Builder()\n",
    "\n",
    "        builder.add_from_file('GUIs/edit_window.ui')\n",
    "\n",
    "        self.main_window = builder.get_object('edit_window')\n",
    "        builder.connect_callbacks(self)\n",
    "        self.listbox_tanks = builder.get_object('listbox_tanks')\n",
    "        names = [len(tank.alias if tank.alias else tank.name)\n",
    "                 for tank in tanks.values()]\n",
    "        self.listbox_tanks.configure(width=max(names))\n",
    "\n",
    "        for k, v in enumerate(self.tanks.values()):\n",
    "            if v.alias:\n",
    "                self.listbox_tanks.insert(k+1, v.alias)\n",
    "            else:\n",
    "                self.listbox_tanks.insert(k+1, v.name)\n",
    "\n",
    "        self.listbox_info = builder.get_object('listbox_info')\n",
    "        self.listbox_tanks.bind('<<ListboxSelect>>', self.onselect_tank)\n",
    "        self.listbox_info.bind('<<ListboxSelect>>', self.onselect_info)\n",
    "\n",
    "        self.textbox = builder.get_object('textbox_info')\n",
    "        self.title = tk.StringVar()\n",
    "        self.title.set('Tank: , Value: ')\n",
    "        label = self.builder.get_object('Label_1')\n",
    "        label.configure(textvariable=self.title)"
   ]
  },
  {
   "cell_type": "code",
   "execution_count": 6,
   "metadata": {
    "pycharm": {
     "is_executing": false
    }
   },
   "outputs": [],
   "source": [
    "class ListWindow(pygubu.TkApplication):\n",
    "\n",
    "    \n",
    "    def onselect(self, event):\n",
    "        w = event.widget\n",
    "        try:\n",
    "            index = int(w.curselection()[0])\n",
    "            value = w.get(index)\n",
    "            self.textbox.configure(state=tk.NORMAL)\n",
    "            self.textbox.delete('1.0', tk.END)\n",
    "#             print(value)\n",
    "            tank = self.tanks[self.aliases[value]]\n",
    "            tank_string = tank.show_all()\n",
    "            self.textbox.insert(tk.END, tank_string)\n",
    "            self.textbox.configure(state=tk.DISABLED)\n",
    "        except IndexError:\n",
    "            pass\n",
    "    \n",
    "    def back_func(self):\n",
    "        self.main_window.destroy()\n",
    "\n",
    "    def __init__(self, tanks, aliases):\n",
    "        super().__init__()\n",
    "        self.tanks = tanks\n",
    "        self.aliases = aliases\n",
    "\n",
    "        self.builder = builder = pygubu.Builder()\n",
    "\n",
    "        builder.add_from_file('GUIs/list_window.ui')\n",
    "\n",
    "        self.main_window = builder.get_object('list_of_tanks')\n",
    "\n",
    "        builder.connect_callbacks(self)\n",
    "\n",
    "        self.textbox = builder.get_object('text_tank_specs')\n",
    "        self.listbox = builder.get_object('listbox_tanks')\n",
    "        \n",
    "        self.listbox.bind('<<ListboxSelect>>', self.onselect)\n",
    "\n",
    "        names = [len(tank.alias if tank.alias else tank.name)\n",
    "                 for tank in tanks.values()]\n",
    "        self.listbox.configure(width=max(names))\n",
    "\n",
    "        for k, v in enumerate(self.tanks.values()):\n",
    "            if v.alias:\n",
    "                self.listbox.insert(k+1, v.alias)\n",
    "            else:\n",
    "                self.listbox.insert(k+1, v.name)"
   ]
  },
  {
   "cell_type": "code",
   "execution_count": 7,
   "metadata": {
    "pycharm": {
     "is_executing": false
    }
   },
   "outputs": [],
   "source": [
    "class MainWindow(pygubu.TkApplication):\n",
    "\n",
    "    def exit_func(self):\n",
    "        self.root.destroy()\n",
    "\n",
    "    def edit_func(self):\n",
    "        EditWindow(self.tanks, self.aliases)\n",
    "\n",
    "    def add_func(self):\n",
    "        AddWindow(self.tanks)\n",
    "\n",
    "    def compare_func(self):\n",
    "        pass\n",
    "\n",
    "    def list_func(self):\n",
    "        ListWindow(self.tanks, self.aliases)\n",
    "\n",
    "    # noinspection PyShadowingNames\n",
    "    def __init__(self, root):\n",
    "        super().__init__()\n",
    "        self.root = root\n",
    "        # tanks = dict()\n",
    "\n",
    "        if tanks:= pickle.load(open('tank_data/tanksGUI.p', 'rb')):\n",
    "#         if tanks:= pickle.load(open('tank_data/tanks.p', 'rb')):\n",
    "            for t in tanks.values():\n",
    "                if t.alias:\n",
    "                    # print(t.alias)\n",
    "                    pass\n",
    "                else:\n",
    "                    # print(t.name)\n",
    "                    pass\n",
    "\n",
    "        self.builder = builder = pygubu.Builder()\n",
    "\n",
    "        builder.add_from_file('GUIs/mainwindow.ui')\n",
    "\n",
    "        self.main_window = builder.get_object('mainwindow')\n",
    "\n",
    "        # callbacks = {\n",
    "        #     'add_func': self.add_func,\n",
    "        #     'compare_func': self.compare_func,\n",
    "        #     'list_func': self.list_func\n",
    "        # }\n",
    "\n",
    "        builder.connect_callbacks(self)\n",
    "\n",
    "        self.tanks = tanks\n",
    "\n",
    "        self.aliases = dict()\n",
    "        for t in self.tanks.values():\n",
    "            if t.alias:\n",
    "                self.aliases[t.alias] = t.name\n",
    "            else:\n",
    "                self.aliases[t.name] = t.name\n",
    "                \n",
    "        # but_add = builder.get_object('button_add')\n",
    "        # but_add.configure(state=tk.DISABLED)\n",
    "        but_comp = builder.get_object('button_compare')\n",
    "        but_comp.configure(state=tk.DISABLED)\n",
    "\n",
    "    def run(self):\n",
    "        self.main_window.mainloop()"
   ]
  },
  {
   "cell_type": "code",
   "execution_count": 15,
   "metadata": {
    "scrolled": true,
    "pycharm": {
     "is_executing": false
    }
   },
   "outputs": [
    {
     "name": "stdout",
     "text": [
      "dupa1\n"
     ],
     "output_type": "stream"
    },
    {
     "traceback": [
      "\u001b[1;31m---------------------------------------------------------------------------\u001b[0m",
      "\u001b[1;31mAttributeError\u001b[0m                            Traceback (most recent call last)",
      "\u001b[1;32m<ipython-input-15-2a6d51b679cc>\u001b[0m in \u001b[0;36m<module>\u001b[1;34m\u001b[0m\n\u001b[0;32m      1\u001b[0m \u001b[0mroot\u001b[0m \u001b[1;33m=\u001b[0m \u001b[0mtk\u001b[0m\u001b[1;33m.\u001b[0m\u001b[0mTk\u001b[0m\u001b[1;33m(\u001b[0m\u001b[1;33m)\u001b[0m\u001b[1;33m\u001b[0m\u001b[1;33m\u001b[0m\u001b[0m\n\u001b[0;32m      2\u001b[0m \u001b[0mprint\u001b[0m\u001b[1;33m(\u001b[0m\u001b[1;34m'dupa1'\u001b[0m\u001b[1;33m)\u001b[0m\u001b[1;33m\u001b[0m\u001b[1;33m\u001b[0m\u001b[0m\n\u001b[1;32m----> 3\u001b[1;33m \u001b[0mwindow\u001b[0m \u001b[1;33m=\u001b[0m \u001b[0mMainWindow\u001b[0m\u001b[1;33m(\u001b[0m\u001b[0mroot\u001b[0m\u001b[1;33m)\u001b[0m\u001b[1;33m\u001b[0m\u001b[1;33m\u001b[0m\u001b[0m\n\u001b[0m\u001b[0;32m      4\u001b[0m \u001b[0mprint\u001b[0m\u001b[1;33m(\u001b[0m\u001b[1;34m'dupa2'\u001b[0m\u001b[1;33m)\u001b[0m\u001b[1;33m\u001b[0m\u001b[1;33m\u001b[0m\u001b[0m\n\u001b[0;32m      5\u001b[0m \u001b[0mwindow\u001b[0m\u001b[1;33m.\u001b[0m\u001b[0mrun\u001b[0m\u001b[1;33m(\u001b[0m\u001b[1;33m)\u001b[0m\u001b[1;33m\u001b[0m\u001b[1;33m\u001b[0m\u001b[0m\n",
      "\u001b[1;32m<ipython-input-7-604dac2fd54d>\u001b[0m in \u001b[0;36m__init__\u001b[1;34m(self, root)\u001b[0m\n\u001b[0;32m     18\u001b[0m     \u001b[1;31m# noinspection PyShadowingNames\u001b[0m\u001b[1;33m\u001b[0m\u001b[1;33m\u001b[0m\u001b[1;33m\u001b[0m\u001b[0m\n\u001b[0;32m     19\u001b[0m     \u001b[1;32mdef\u001b[0m \u001b[0m__init__\u001b[0m\u001b[1;33m(\u001b[0m\u001b[0mself\u001b[0m\u001b[1;33m,\u001b[0m \u001b[0mroot\u001b[0m\u001b[1;33m)\u001b[0m\u001b[1;33m:\u001b[0m\u001b[1;33m\u001b[0m\u001b[1;33m\u001b[0m\u001b[0m\n\u001b[1;32m---> 20\u001b[1;33m         \u001b[0msuper\u001b[0m\u001b[1;33m(\u001b[0m\u001b[1;33m)\u001b[0m\u001b[1;33m.\u001b[0m\u001b[0m__init__\u001b[0m\u001b[1;33m(\u001b[0m\u001b[1;33m)\u001b[0m\u001b[1;33m\u001b[0m\u001b[1;33m\u001b[0m\u001b[0m\n\u001b[0m\u001b[0;32m     21\u001b[0m         \u001b[0mself\u001b[0m\u001b[1;33m.\u001b[0m\u001b[0mroot\u001b[0m \u001b[1;33m=\u001b[0m \u001b[0mroot\u001b[0m\u001b[1;33m\u001b[0m\u001b[1;33m\u001b[0m\u001b[0m\n\u001b[0;32m     22\u001b[0m         \u001b[1;31m# tanks = dict()\u001b[0m\u001b[1;33m\u001b[0m\u001b[1;33m\u001b[0m\u001b[1;33m\u001b[0m\u001b[0m\n",
      "\u001b[1;32md:\\python38\\lib\\site-packages\\pygubu\\__init__.py\u001b[0m in \u001b[0;36m__init__\u001b[1;34m(self, master)\u001b[0m\n\u001b[0;32m     22\u001b[0m     \u001b[1;32mdef\u001b[0m \u001b[0m__init__\u001b[0m\u001b[1;33m(\u001b[0m\u001b[0mself\u001b[0m\u001b[1;33m,\u001b[0m \u001b[0mmaster\u001b[0m\u001b[1;33m=\u001b[0m\u001b[1;32mNone\u001b[0m\u001b[1;33m)\u001b[0m\u001b[1;33m:\u001b[0m\u001b[1;33m\u001b[0m\u001b[1;33m\u001b[0m\u001b[0m\n\u001b[0;32m     23\u001b[0m         \u001b[0mself\u001b[0m\u001b[1;33m.\u001b[0m\u001b[0mmaster\u001b[0m \u001b[1;33m=\u001b[0m \u001b[0mmaster\u001b[0m\u001b[1;33m\u001b[0m\u001b[1;33m\u001b[0m\u001b[0m\n\u001b[1;32m---> 24\u001b[1;33m         \u001b[0mself\u001b[0m\u001b[1;33m.\u001b[0m\u001b[0mtoplevel\u001b[0m \u001b[1;33m=\u001b[0m \u001b[0mmaster\u001b[0m\u001b[1;33m.\u001b[0m\u001b[0mwinfo_toplevel\u001b[0m\u001b[1;33m(\u001b[0m\u001b[1;33m)\u001b[0m\u001b[1;33m\u001b[0m\u001b[1;33m\u001b[0m\u001b[0m\n\u001b[0m\u001b[0;32m     25\u001b[0m \u001b[1;33m\u001b[0m\u001b[0m\n\u001b[0;32m     26\u001b[0m         \u001b[0mself\u001b[0m\u001b[1;33m.\u001b[0m\u001b[0mtoplevel\u001b[0m\u001b[1;33m.\u001b[0m\u001b[0mwithdraw\u001b[0m\u001b[1;33m(\u001b[0m\u001b[1;33m)\u001b[0m\u001b[1;33m\u001b[0m\u001b[1;33m\u001b[0m\u001b[0m\n",
      "\u001b[1;31mAttributeError\u001b[0m: 'NoneType' object has no attribute 'winfo_toplevel'"
     ],
     "ename": "AttributeError",
     "evalue": "'NoneType' object has no attribute 'winfo_toplevel'",
     "output_type": "error"
    }
   ],
   "source": [
    "root = tk.Tk()\n",
    "print('dupa1')\n",
    "window = MainWindow(root)\n",
    "print('dupa2')\n",
    "window.run()"
   ]
  },
  {
   "cell_type": "code",
   "execution_count": null,
   "metadata": {
    "pycharm": {
     "is_executing": false
    }
   },
   "outputs": [],
   "source": []
  },
  {
   "cell_type": "code",
   "execution_count": null,
   "metadata": {
    "pycharm": {
     "is_executing": false
    }
   },
   "outputs": [],
   "source": []
  }
 ],
 "metadata": {
  "kernelspec": {
   "display_name": "Python 3",
   "language": "python",
   "name": "python3"
  },
  "language_info": {
   "codemirror_mode": {
    "name": "ipython",
    "version": 3
   },
   "file_extension": ".py",
   "mimetype": "text/x-python",
   "name": "python",
   "nbconvert_exporter": "python",
   "pygments_lexer": "ipython3",
   "version": "3.8.2"
  },
  "pycharm": {
   "stem_cell": {
    "cell_type": "raw",
    "source": [],
    "metadata": {
     "collapsed": false
    }
   }
  }
 },
 "nbformat": 4,
 "nbformat_minor": 4
}