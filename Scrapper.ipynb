{
 "cells": [
  {
   "cell_type": "code",
   "execution_count": 1,
   "metadata": {},
   "outputs": [],
   "source": [
    "def scrapper(query):\n",
    "    query = query\n",
    "    content_list = dict()\n",
    "    url = 'https://en.wikipedia.org/wiki/'+query\n",
    "    raw = urlopen(url)\n",
    "    soup = bs(raw)\n",
    "    table = soup.find('table', {'class': 'infobox vcard'})\n",
    "    for br in soup.find_all(\"br\"):\n",
    "        br.replace_with(\"\\n\")\n",
    "    for tr in table.find_all('tr'):\n",
    "        if len(tr.contents) > 1: \n",
    "            content_list[string_clean(tr.contents[0].text, True)] = string_clean(tr.contents[1].text)\n",
    "        elif tr.text:\n",
    "            content_list[string_clean(tr.text, True)] = None\n",
    "    return content_list"
   ]
  },
  {
   "cell_type": "code",
   "execution_count": null,
   "metadata": {},
   "outputs": [],
   "source": [
    "def string_clean(string, title=False):\n",
    "    if not title:\n",
    "        if '\\n' in string:\n",
    "            t = string.splitlines()\n",
    "            while '' in t:\n",
    "                t.pop(t.index(''))\n",
    "            t2 = ''\n",
    "            for i in t:\n",
    "                t2 += i\n",
    "                t2 += '\\n    ----    ----    '\n",
    "            string = t2\n",
    "    else:\n",
    "        if '\\n' in string:\n",
    "            t = string.splitlines()\n",
    "            while '' in t:\n",
    "                t.pop(t.index(''))\n",
    "            t2 = ''\n",
    "            for i in t:\n",
    "                t2 += i\n",
    "                t2 += ' '\n",
    "            string = t2\n",
    "    s = string.strip()\n",
    "    s = s.replace('\\xa0', ' ')\n",
    "    s = re.sub('\\[.\\]','' ,s)\n",
    "#     s = s.replace('\\n', '   ||   ')\n",
    "    return s"
   ]
  }
 ],
 "metadata": {
  "kernelspec": {
   "display_name": "Python 3",
   "language": "python",
   "name": "python3"
  },
  "language_info": {
   "codemirror_mode": {
    "name": "ipython",
    "version": 3
   },
   "file_extension": ".py",
   "mimetype": "text/x-python",
   "name": "python",
   "nbconvert_exporter": "python",
   "pygments_lexer": "ipython3",
   "version": "3.8.2"
  }
 },
 "nbformat": 4,
 "nbformat_minor": 4
}
