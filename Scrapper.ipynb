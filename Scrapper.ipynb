{
 "cells": [
  {
   "cell_type": "code",
   "execution_count": 1,
   "metadata": {},
   "outputs": [],
   "source": [
    "from bs4 import BeautifulSoup as bs\n",
    "from urllib.request import urlopen\n",
    "import re"
   ]
  },
  {
   "cell_type": "code",
   "execution_count": 20,
   "metadata": {},
   "outputs": [],
   "source": [
    "def scrapper(query):\n",
    "    query = query\n",
    "    infoboxes = []\n",
    "#     url = 'https://en.wikipedia.org/wiki/'+query\n",
    "    \n",
    "    raw = urlopen(url)\n",
    "    print('{} opened succesfully'.format(url))\n",
    "    soup = bs(raw,features=\"lxml\")\n",
    "    heading = soup.find('h1', {'class': 'firstHeading'}).contents[0]\n",
    "#     print(heading)\n",
    "    boxes = soup.find_all('table', {'class': 'infobox vcard'})\n",
    "    for table in boxes:\n",
    "        content_dict = dict()\n",
    "        for br in soup.find_all(\"br\"):\n",
    "            br.replace_with(\"\\n\")\n",
    "        for tr in table.find_all('tr'):\n",
    "            if len(tr.contents) > 1: \n",
    "                content_dict[string_clean(tr.contents[0].text, True)] = string_clean(tr.contents[1].text)\n",
    "            elif tr.text:\n",
    "                content_dict[string_clean(tr.text, True)] = None\n",
    "        infoboxes.append(content_dict)\n",
    "    return heading, infoboxes"
   ]
  },
  {
   "cell_type": "code",
   "execution_count": 3,
   "metadata": {},
   "outputs": [],
   "source": [
    "def string_clean(string, title=False):\n",
    "    if not title:\n",
    "        # print(string)\n",
    "        if '\\n' in string:\n",
    "            t = string.splitlines()\n",
    "            while '' in t:\n",
    "                t.pop(t.index(''))\n",
    "            t2 = ''\n",
    "            # print(t)\n",
    "            for i in range(len(t)-1):\n",
    "                t2 += t[i]\n",
    "                t2 += '\\n  ----    '\n",
    "            t2 += t[-1]\n",
    "            string = t2\n",
    "    else:\n",
    "        if '\\n' in string:\n",
    "            t = string.splitlines()\n",
    "            while '' in t:\n",
    "                t.pop(t.index(''))\n",
    "            t2 = ''\n",
    "            for i in t:\n",
    "                t2 += i\n",
    "                t2 += ' '\n",
    "            string = t2\n",
    "    s = string.strip()\n",
    "    s = s.replace('\\xa0', ' ')\n",
    "    s = re.sub('\\[.\\]','' ,s)\n",
    "#     s = s.replace('\\n', '   ||   ')\n",
    "    # print(s)\n",
    "\n",
    "    return s"
   ]
  },
  {
   "cell_type": "code",
   "execution_count": 21,
   "metadata": {},
   "outputs": [
    {
     "name": "stdout",
     "output_type": "stream",
     "text": [
      "https://en.wikipedia.org/wiki/Tiger_I opened succesfully\n",
      "Tiger I\n"
     ]
    },
    {
     "data": {
      "text/plain": [
       "[{'Panzerkampfwagen VI Tiger Ausf. E': None,\n",
       "  'Tiger I in northern France, March 1944': None,\n",
       "  'Type': 'Heavy tank',\n",
       "  'Place of origin': 'Germany',\n",
       "  'Service history': None,\n",
       "  'In service': '1942–1945',\n",
       "  'Wars': 'World War II',\n",
       "  'Production history': None,\n",
       "  'Designer': 'Erwin Aders\\n  ----    Henschel & Son',\n",
       "  'Designed': '1938–1941',\n",
       "  'Manufacturer': 'Henschel',\n",
       "  'Unit cost': '250,800 RM',\n",
       "  'Produced': '1942–1944',\n",
       "  'No. built': '1,347',\n",
       "  'Specifications (RfRuK VK 4501H Ausf.E, Blatt: G-330)': None,\n",
       "  'Mass': '54 tonnes (60 short tons)\\n  ----    57 tonnes (63 short tons) (Ausf. E) (Combat weight)',\n",
       "  'Length': '6.316 m (20 ft 8.7 in)\\n  ----    8.45 m (27 ft 9 in) gun forward',\n",
       "  'Width': '3.56 m (11 ft 8 in)',\n",
       "  'Height': '3.0 m (9 ft 10 in)',\n",
       "  'Crew': '5 (commander, gunner, loader, driver, assistant driver)',\n",
       "  'Armour': '25–120 mm (0.98–4.72 in)',\n",
       "  'Main armament': '1× 8.8 cm KwK 36 L/56\\n  ----    92 AP and HE rounds',\n",
       "  'Secondary armament': '2× 7.92 mm MG 34\\n  ----    4,500 rounds\\n  ----    4,800 rounds (Ausf. E)',\n",
       "  'Engine': 'Maybach HL230 P45 V-12\\n  ----    700 PS (690 hp, 515 kW)',\n",
       "  'Power/weight': '13 PS (9.5 kW) / tonne',\n",
       "  'Suspension': 'Torsion bar',\n",
       "  'Ground clearance': '0.47 m (1 ft 7 in)',\n",
       "  'Operational range': 'Road: 195 km (121 mi)\\n  ----    Cross country: 110 km (68 mi)',\n",
       "  'Speed': 'Maximum, road: 45.4 km/h (28.2 mph)\\n  ----    Sustained, road: 40 km/h (25 mph)\\n  ----    Cross country: 20–25 km/h (12–16 mph)'}]"
      ]
     },
     "execution_count": 21,
     "metadata": {},
     "output_type": "execute_result"
    }
   ],
   "source": [
    "scrapper('Tiger_I')"
   ]
  }
 ],
 "metadata": {
  "kernelspec": {
   "display_name": "Python 3",
   "language": "python",
   "name": "python3"
  },
  "language_info": {
   "codemirror_mode": {
    "name": "ipython",
    "version": 3
   },
   "file_extension": ".py",
   "mimetype": "text/x-python",
   "name": "python",
   "nbconvert_exporter": "python",
   "pygments_lexer": "ipython3",
   "version": "3.8.2"
  }
 },
 "nbformat": 4,
 "nbformat_minor": 4
}
