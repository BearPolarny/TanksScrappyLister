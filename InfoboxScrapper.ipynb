{
 "cells": [
  {
   "cell_type": "markdown",
   "metadata": {},
   "source": [
    "# Panzer vor"
   ]
  },
  {
   "cell_type": "code",
   "execution_count": 1,
   "metadata": {
    "scrolled": true,
    "pycharm": {
     "is_executing": false
    }
   },
   "outputs": [],
   "source": [
    "import Tank\n",
    "import Scrapper\n",
    "from operator import itemgetter\n",
    "import pickle\n",
    "from importlib import reload  "
   ]
  },
  {
   "cell_type": "code",
   "execution_count": null,
   "metadata": {},
   "outputs": [],
   "source": [
    "def compare_values(tanks, chapter, row):\n",
    "    names = [len(tank.alias if tank.alias else tank.name) for tank in tanks.values()]\n",
    "    m = max(names)\n",
    "    for tank in tanks.values():\n",
    "        s = tank.alias if tank.alias else tank.name\n",
    "        if chapter in tank.chapters:\n",
    "            if tank.chapters[chapter] and row in tank.chapters[chapter]:\n",
    "                print((s + \": \").ljust(m+2) + tank.chapters[chapter][row])\n",
    "            else:\n",
    "                print((s + \": \").ljust(m+2) + 'Brak danych')\n",
    "        else:\n",
    "            print('Brak rozdziału')"
   ]
  },
  {
   "cell_type": "code",
   "execution_count": null,
   "metadata": {},
   "outputs": [],
   "source": [
    "def change_value_in_all(tanks, value):\n",
    "    chapter, row = value\n",
    "    for tank in tanks.values():\n",
    "        if chapter in tank.chapters:\n",
    "            if tank.chapters[chapter] and row in tank.chapters[chapter]:\n",
    "                i = input('Change {} to: '.format(tank.chapters[chapter][row]))\n",
    "                tank.chapters[chapter][row] = i\n",
    "        else:\n",
    "            print('Brak rozdziału')\n",
    "        "
   ]
  },
  {
   "cell_type": "markdown",
   "metadata": {},
   "source": [
    "## Scrapper"
   ]
  },
  {
   "cell_type": "markdown",
   "metadata": {},
   "source": [
    "###### haha już jest w module Scrapper"
   ]
  },
  {
   "cell_type": "markdown",
   "metadata": {},
   "source": [
    "## Medium Rare Data parser"
   ]
  },
  {
   "cell_type": "markdown",
   "metadata": {},
   "source": [
    "###### haha już jest w module Tank"
   ]
  },
  {
   "cell_type": "markdown",
   "metadata": {},
   "source": [
    "## Well done data parser"
   ]
  },
  {
   "cell_type": "markdown",
   "metadata": {},
   "source": [
    "###### haha już jest w klasie Tank"
   ]
  },
  {
   "cell_type": "markdown",
   "metadata": {},
   "source": [
    "## TANKS"
   ]
  },
  {
   "cell_type": "code",
   "execution_count": 2,
   "metadata": {
    "pycharm": {
     "is_executing": false
    }
   },
   "outputs": [],
   "source": [
    "tanks = dict()"
   ]
  },
  {
   "cell_type": "code",
   "execution_count": 25,
   "metadata": {
    "scrolled": true
   },
   "outputs": [
    {
     "name": "stdout",
     "output_type": "stream",
     "text": [
      "pee pee\n",
      "Panzerkampfwagen I\n",
      "Panzerkampfwagen II\n",
      "Panzerkampfwagen III\n",
      "Panzerkampfwagen IV\n",
      "Panzerkampfwagen V Panther\n",
      "Panzerkampfwagen VI Tiger Ausf. E\n",
      "Panzerkampfwagen Tiger Ausf. B\n",
      "T-34\n",
      "T-10 Heavy Tank\n",
      "Medium Tank, M4\n",
      "PT-91 \"Twardy\"\n",
      "PT-91M \"Pendekar\"\n"
     ]
    }
   ],
   "source": [
    "if tanks:=pickle.load(open('tank_tanks.p', 'rb')):\n",
    "        for t in tanks.values():\n",
    "            if t.alias:\n",
    "                print(t.alias)\n",
    "            else:\n",
    "                print(t.name)"
   ]
  },
  {
   "cell_type": "code",
   "execution_count": 21,
   "metadata": {
    "scrolled": true
   },
   "outputs": [
    {
     "name": "stdout",
     "output_type": "stream",
     "text": [
      "https://en.wikipedia.org/wiki/Panzer_I opened succesfully\n",
      "Panzerkampfwagen I\n",
      "Service history found\n",
      "Production history found\n",
      "Specifications found\n",
      "\n",
      "https://en.wikipedia.org/wiki/Panzer_II opened succesfully\n",
      "Panzerkampfwagen II\n",
      "Service history found\n",
      "Production history found\n",
      "Specifications (Ausf. c-C) found\n",
      "\n",
      "https://en.wikipedia.org/wiki/Panzer_III opened succesfully\n",
      "Panzerkampfwagen III\n",
      "Service history found\n",
      "Production history found\n",
      "Specifications found\n",
      "\n",
      "https://en.wikipedia.org/wiki/Panzer_IV opened succesfully\n",
      "Panzerkampfwagen IV\n",
      "Service history found\n",
      "Production history found\n",
      "Specifications (Pz IV Ausf H, 1943) found\n",
      "\n",
      "https://en.wikipedia.org/wiki/Panther_tank opened succesfully\n",
      "Panzerkampfwagen V Panther\n",
      "Service history found\n",
      "Production history found\n",
      "Specifications found\n",
      "\n",
      "https://en.wikipedia.org/wiki/Tiger_I opened succesfully\n",
      "Panzerkampfwagen VI Tiger Ausf. E\n",
      "Service history found\n",
      "Production history found\n",
      "Specifications (RfRuK VK 4501H Ausf.E, Blatt: G-330) found\n",
      "\n",
      "https://en.wikipedia.org/wiki/Tiger_II opened succesfully\n",
      "Panzerkampfwagen Tiger Ausf. B\n",
      "Service history found\n",
      "Production history found\n",
      "Specifications found\n",
      "\n",
      "https://en.wikipedia.org/wiki/T-34 opened succesfully\n",
      "T-34\n",
      "Service history found\n",
      "Production history found\n",
      "Specifications (T-34 Model 1941) found\n",
      "\n",
      "https://en.wikipedia.org/wiki/T-10_tank opened succesfully\n",
      "T-10 Heavy Tank\n",
      "Service history found\n",
      "Production history found\n",
      "Specifications found\n",
      "\n",
      "https://en.wikipedia.org/wiki/M4_Sherman opened succesfully\n",
      "Medium Tank, M4\n",
      "Service history found\n",
      "Production history found\n",
      "Specifications found\n",
      "\n",
      "https://en.wikipedia.org/wiki/PT-91_Twardy opened succesfully\n",
      "PT-91 \"Twardy\"\n",
      "Service history found\n",
      "Specifications found\n",
      "\n",
      "PT-91M \"Pendekar\"\n",
      "Service history found\n",
      "Specifications found\n",
      "\n"
     ]
    }
   ],
   "source": [
    "tanks_to_scrap = ['Panzer_I', 'Panzer_II', 'Panzer_III', 'Panzer_IV', 'Panther_tank', 'Tiger_I', 'Tiger_II', 'T-34', 'T-10_tank',\n",
    "                 'M4_Sherman', 'PT-91_Twardy']\n",
    "# tanks_to_scrap = ['''Elefant''']\n",
    "already_saved = [tank.wikientry for tank in tanks.values()]\n",
    "for link in tanks_to_scrap:\n",
    "    if link not in already_saved:\n",
    "        data = Scrapper.scrapper(link)[1]\n",
    "    #     print(data)\n",
    "        tks = Tank.tank_factory(data, link)\n",
    "        for t in tks:\n",
    "            tanks[t.name] = t"
   ]
  },
  {
   "cell_type": "markdown",
   "metadata": {},
   "source": [
    "### alias setter - all unaliased"
   ]
  },
  {
   "cell_type": "code",
   "execution_count": 26,
   "metadata": {
    "scrolled": true
   },
   "outputs": [
    {
     "name": "stdout",
     "output_type": "stream",
     "text": [
      "Alias czołgu Panzerkampfwagen I: Panzer I\n",
      "Alias czołgu Panzerkampfwagen II: Panzer II\n",
      "Alias czołgu Panzerkampfwagen III: Panzer III\n",
      "Alias czołgu Panzerkampfwagen IV: Panzer IV\n",
      "Alias czołgu Panzerkampfwagen V Panther: Panther\n",
      "Alias czołgu Panzerkampfwagen VI Tiger Ausf. E: Tiger I\n",
      "Alias czołgu Panzerkampfwagen Tiger Ausf. B: Tiger II\n",
      "Alias czołgu T-34: T-34\n",
      "Alias czołgu T-10 Heavy Tank: T-10\n",
      "Alias czołgu Medium Tank, M4: Sherman M4\n",
      "Alias czołgu PT-91 \"Twardy\": PT-91 Twardy\n",
      "Alias czołgu PT-91M \"Pendekar\": PT-91M Pendekar\n"
     ]
    }
   ],
   "source": [
    "for tank in tanks.values():\n",
    "    if tank.alias is None:\n",
    "        tank.alias = input('Alias czołgu {}: '.format(tank.name))"
   ]
  },
  {
   "cell_type": "code",
   "execution_count": 29,
   "metadata": {},
   "outputs": [
    {
     "data": {
      "text/plain": [
       "'Panzerjäger Tiger (P)'"
      ]
     },
     "execution_count": 29,
     "metadata": {},
     "output_type": "execute_result"
    }
   ],
   "source": [
    "list(tanks.values())[0].name"
   ]
  },
  {
   "cell_type": "code",
   "execution_count": 23,
   "metadata": {
    "scrolled": false
   },
   "outputs": [
    {
     "name": "stdout",
     "output_type": "stream",
     "text": [
      "PT-91M \"Pendekar\"\n",
      "    Type\n",
      "    Place of origin\n",
      "    Used by\n",
      "    Mass\n",
      "    Length\n",
      "    Width\n",
      "    Height\n",
      "    Crew\n",
      "    Armor\n",
      "    Main armament\n",
      "    Secondary armament\n",
      "    Engine\n",
      "    Power/weight\n",
      "    Transmission\n",
      "    Suspension\n",
      "    Ground clearance\n",
      "    Speed\n",
      "\n"
     ]
    }
   ],
   "source": [
    "a = tanks[list(tanks.keys())[-1]].list_of_content()\n",
    "print(a)"
   ]
  },
  {
   "cell_type": "code",
   "execution_count": 24,
   "metadata": {
    "scrolled": false
   },
   "outputs": [
    {
     "name": "stdout",
     "output_type": "stream",
     "text": [
      "T-34\n",
      "    Type\n",
      "    Place of origin\n",
      "    In service\n",
      "    Used by\n",
      "    Wars\n",
      "    Designer\n",
      "    Designed\n",
      "    Produced\n",
      "    No. built\n",
      "    Mass\n",
      "    Length\n",
      "    Width\n",
      "    Height\n",
      "    Crew\n",
      "    Armour\n",
      "    Main armament\n",
      "    Secondary armament\n",
      "    Engine\n",
      "    Power/weight\n",
      "    Suspension\n",
      "    Ground clearance\n",
      "    Operational range\n",
      "    Speed\n",
      "\n"
     ]
    }
   ],
   "source": [
    "a = tanks[list(tanks.keys())[-5]].list_of_content()\n",
    "print(a)"
   ]
  },
  {
   "cell_type": "code",
   "execution_count": 11,
   "metadata": {
    "scrolled": true
   },
   "outputs": [
    {
     "data": {
      "text/plain": [
       "<module 'Tank' from 'C:\\\\Users\\\\shull\\\\Desktop\\\\My_Projects\\\\Tanks\\\\Tank.py'>"
      ]
     },
     "execution_count": 11,
     "metadata": {},
     "output_type": "execute_result"
    }
   ],
   "source": [
    "reload(Tank)"
   ]
  },
  {
   "cell_type": "code",
   "execution_count": 3,
   "metadata": {
    "pycharm": {
     "is_executing": false
    }
   },
   "outputs": [],
   "source": [
    "pickle.dump(tanks, open('tank_tanks.p', 'wb'))"
   ]
  },
  {
   "cell_type": "code",
   "execution_count": null,
   "metadata": {
    "scrolled": true
   },
   "outputs": [],
   "source": [
    "help(Tank.Tank.show_all)"
   ]
  }
 ],
 "metadata": {
  "kernelspec": {
   "display_name": "Python 3",
   "language": "python",
   "name": "python3"
  },
  "language_info": {
   "codemirror_mode": {
    "name": "ipython",
    "version": 3
   },
   "file_extension": ".py",
   "mimetype": "text/x-python",
   "name": "python",
   "nbconvert_exporter": "python",
   "pygments_lexer": "ipython3",
   "version": "3.8.2"
  }
 },
 "nbformat": 4,
 "nbformat_minor": 4
}